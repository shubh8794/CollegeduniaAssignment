{
 "cells": [
  {
   "cell_type": "code",
   "execution_count": 77,
   "metadata": {},
   "outputs": [],
   "source": [
    "# Import libraries\n",
    "from bs4 import BeautifulSoup\n",
    "import numpy as np\n",
    "import pandas as pd\n",
    "import requests"
   ]
  },
  {
   "cell_type": "code",
   "execution_count": 2,
   "metadata": {},
   "outputs": [],
   "source": [
    "#Query url\n",
    "url = \"https://collegedunia.com/university/25787-lovely-professional-university-lpu-jalandhar/reviews\""
   ]
  },
  {
   "cell_type": "code",
   "execution_count": 3,
   "metadata": {},
   "outputs": [
    {
     "data": {
      "text/plain": [
       "\"\\nThis piece of code not worked since api is not showing usual behaviour. \\nIf page doesn't exits it returns deafault page\\n\""
      ]
     },
     "execution_count": 3,
     "metadata": {},
     "output_type": "execute_result"
    }
   ],
   "source": [
    "\"\"\"\n",
    "This piece of code not worked since api is not showing usual behaviour. \n",
    "If page doesn't exits it returns deafault page\n",
    "\"\"\"\n",
    "\n",
    "# i = 0 \n",
    "# content = []\n",
    "# while i < 100:\n",
    "#     try:         \n",
    "#         output = requests.get(url + \"&page-{}\".format(i))\n",
    "#         soup = BeautifulSoup(output.text)\n",
    "#         review_content = soup.findAll(\"div\", { \"class\" : \"content_data\" })\n",
    "#     except:\n",
    "#         break\n",
    "#     content.extend(review_content)"
   ]
  },
  {
   "cell_type": "code",
   "execution_count": 4,
   "metadata": {},
   "outputs": [],
   "source": [
    "# Scrap all review data available\n",
    "output = requests.get(url)\n",
    "soup = BeautifulSoup(output.text)\n",
    "content = soup.findAll(\"div\", { \"class\" : \"content_data\" })"
   ]
  },
  {
   "cell_type": "markdown",
   "metadata": {},
   "source": [
    "### Total Positive/Negative votes for the college"
   ]
  },
  {
   "cell_type": "code",
   "execution_count": 28,
   "metadata": {},
   "outputs": [
    {
     "name": "stdout",
     "output_type": "stream",
     "text": [
      "Total Positive votes :8\n",
      "Total Negative votes :2\n"
     ]
    }
   ],
   "source": [
    "# In order to classify positive and negative votes we are checking rating by each individual if it is greater than\n",
    "# Mean value then we called it as positive and negative in opposite case.\n",
    "total_positive = 0\n",
    "total_negative = 0\n",
    "mean_rating = soup.find(\"span\", {\"class\" : \"major_data\"}).contents[0]\n",
    "for rc in content:\n",
    "    author_rating = rc.find(\"span\", {\"class\" : \"rating\"}).string\n",
    "    if author_rating >= mean_rating :\n",
    "        total_positive += 1\n",
    "    elif author_rating < mean_rating :\n",
    "        total_negative += 1\n",
    "    else :\n",
    "        raise ValueError()\n",
    "\n",
    "print \"Total Positive votes :\" + str(total_positive)\n",
    "print \"Total Negative votes :\" + str(total_negative)"
   ]
  },
  {
   "cell_type": "markdown",
   "metadata": {},
   "source": [
    "### Percentage of \"review authors\" in the following categories : “College students”, “Alumni\""
   ]
  },
  {
   "cell_type": "code",
   "execution_count": 32,
   "metadata": {},
   "outputs": [
    {
     "name": "stdout",
     "output_type": "stream",
     "text": [
      "Percentage of College students :90.0\n",
      "Percentage of Alumni :10.0\n"
     ]
    }
   ],
   "source": [
    "# Calculate percentage of current students and alumni based on keywords available in the result\n",
    "college_students = 0\n",
    "alumni = 0\n",
    "total_reviews = len(content)\n",
    "unknown = 0\n",
    "for rc in content:\n",
    "    author_batch = rc.find(\"span\", {\"class\" : \"author_batch\"}).string\n",
    "    if \"Pursued\" in author_batch :\n",
    "        college_students += 1\n",
    "    elif \"Batch\" in author_batch :\n",
    "        alumni += 1\n",
    "    else:\n",
    "        unknown += 1\n",
    "print \"Percentage of College students :\" + str(float(college_students)/float(total_reviews)*100)\n",
    "print \"Percentage of Alumni :\" + str(float(alumni)/float(total_reviews)*100)\n",
    "    "
   ]
  },
  {
   "cell_type": "markdown",
   "metadata": {},
   "source": [
    "### Percentage of \"review authors\" who are Male/Female"
   ]
  },
  {
   "cell_type": "code",
   "execution_count": 114,
   "metadata": {},
   "outputs": [],
   "source": [
    "def get_gender(name):\n",
    "    \"\"\"\n",
    "    This function take name of person and returns gender based on api\n",
    "    https://github.com/appeler/clarifai_gender\n",
    "\n",
    "    Parameters\n",
    "    -----------\n",
    "    name : string\n",
    "        name of person\n",
    "    Returns\n",
    "    --------\n",
    "    string: gender\n",
    "    \"\"\"\n",
    "    p = 0\n",
    "    gender = \"male\"\n",
    "    for i in range(len(name.split(\" \"))):\n",
    "        gender_url = \"https://api.genderize.io/?name=\" + name.split(\" \")[i]\n",
    "        output = requests.get(gender_url).json()\n",
    "        if output.get(\"probability\", 0) > p:\n",
    "            p = output.get(\"probability\", 0)\n",
    "            gender = output['gender']\n",
    "\n",
    "    return gender"
   ]
  },
  {
   "cell_type": "code",
   "execution_count": 117,
   "metadata": {},
   "outputs": [
    {
     "name": "stdout",
     "output_type": "stream",
     "text": [
      "Rahul kumar gupta\n",
      "male\n",
      "SAURAV SUMAN\n",
      "male\n",
      "Durga Bharti\n",
      "female\n",
      "Muneet Gill\n",
      "female\n",
      "SIDDARTH VETURI\n",
      "male\n",
      "Ch sairam hithesh\n",
      "male\n",
      "Faiz ul haq\n",
      "male\n",
      "Ampolu Venkat Anilkumar\n",
      "male\n",
      "Ravi Ranjan Singh\n",
      "male\n",
      "BURI MADHU MANEESH\n",
      "male\n",
      "Percentage of Male :80.0\n",
      "Percentage of female :20.0\n"
     ]
    }
   ],
   "source": [
    "# We can use already available machine learning solutions to classify names based on learning from existing data of we have any\n",
    "# \n",
    "female = 0\n",
    "male = 0\n",
    "total_reviews = len(content)\n",
    "for rc in content:\n",
    "    author_name = rc.find(\"span\", {\"class\" : \"author_name\"}).string\n",
    "    print author_name\n",
    "    gender = get_gender(author_name)\n",
    "    print gender\n",
    "    if gender == \"male\" :\n",
    "        male += 1\n",
    "    elif gender == \"female\" :\n",
    "        female += 1\n",
    "    else:\n",
    "        raise IOError(\"Invalid name\")\n",
    "print \"Percentage of Male :\" + str(float(male)/float(total_reviews)*100)\n",
    "print \"Percentage of female :\" + str(float(female)/float(total_reviews)*100)\n",
    "    \n"
   ]
  }
 ],
 "metadata": {
  "kernelspec": {
   "display_name": "Python 2",
   "language": "python",
   "name": "python2"
  },
  "language_info": {
   "codemirror_mode": {
    "name": "ipython",
    "version": 2
   },
   "file_extension": ".py",
   "mimetype": "text/x-python",
   "name": "python",
   "nbconvert_exporter": "python",
   "pygments_lexer": "ipython2",
   "version": "2.7.10"
  }
 },
 "nbformat": 4,
 "nbformat_minor": 2
}
