{
 "cells": [
  {
   "cell_type": "markdown",
   "metadata": {},
   "source": [
    "# Audience Demographics"
   ]
  },
  {
   "cell_type": "code",
   "execution_count": 1,
   "metadata": {},
   "outputs": [],
   "source": [
    "# Import libraries\n",
    "from bs4 import BeautifulSoup\n",
    "import numpy as np\n",
    "import pandas as pd\n",
    "import requests"
   ]
  },
  {
   "cell_type": "code",
   "execution_count": 2,
   "metadata": {},
   "outputs": [],
   "source": [
    "#Query url\n",
    "url = \"https://collegedunia.com/university/25787-lovely-professional-university-lpu-jalandhar/reviews\""
   ]
  },
  {
   "cell_type": "code",
   "execution_count": 3,
   "metadata": {},
   "outputs": [
    {
     "name": "stdout",
     "output_type": "stream",
     "text": [
      "https://collegedunia.com/university/25787-lovely-professional-university-lpu-jalandhar/reviews\n",
      "https://collegedunia.com/university/25787-lovely-professional-university-lpu-jalandhar/reviews/page-2\n",
      "https://collegedunia.com/university/25787-lovely-professional-university-lpu-jalandhar/reviews/page-3\n",
      "https://collegedunia.com/university/25787-lovely-professional-university-lpu-jalandhar/reviews/page-4\n",
      "https://collegedunia.com/university/25787-lovely-professional-university-lpu-jalandhar/reviews/page-5\n",
      "https://collegedunia.com/university/25787-lovely-professional-university-lpu-jalandhar/reviews/page-6\n",
      "https://collegedunia.com/university/25787-lovely-professional-university-lpu-jalandhar/reviews/page-7\n",
      "https://collegedunia.com/university/25787-lovely-professional-university-lpu-jalandhar/reviews/page-8\n",
      "https://collegedunia.com/university/25787-lovely-professional-university-lpu-jalandhar/reviews/page-9\n",
      "https://collegedunia.com/university/25787-lovely-professional-university-lpu-jalandhar/reviews/page-10\n",
      "https://collegedunia.com/university/25787-lovely-professional-university-lpu-jalandhar/reviews/page-11\n",
      "https://collegedunia.com/university/25787-lovely-professional-university-lpu-jalandhar/reviews/page-12\n",
      "https://collegedunia.com/university/25787-lovely-professional-university-lpu-jalandhar/reviews/page-13\n",
      "https://collegedunia.com/university/25787-lovely-professional-university-lpu-jalandhar/reviews/page-14\n",
      "https://collegedunia.com/university/25787-lovely-professional-university-lpu-jalandhar/reviews/page-15\n",
      "https://collegedunia.com/university/25787-lovely-professional-university-lpu-jalandhar/reviews/page-16\n",
      "https://collegedunia.com/university/25787-lovely-professional-university-lpu-jalandhar/reviews/page-17\n",
      "https://collegedunia.com/university/25787-lovely-professional-university-lpu-jalandhar/reviews/page-18\n",
      "https://collegedunia.com/university/25787-lovely-professional-university-lpu-jalandhar/reviews/page-19\n",
      "https://collegedunia.com/university/25787-lovely-professional-university-lpu-jalandhar/reviews/page-20\n",
      "https://collegedunia.com/university/25787-lovely-professional-university-lpu-jalandhar/reviews/page-21\n",
      "https://collegedunia.com/university/25787-lovely-professional-university-lpu-jalandhar/reviews/page-22\n",
      "https://collegedunia.com/university/25787-lovely-professional-university-lpu-jalandhar/reviews/page-23\n",
      "https://collegedunia.com/university/25787-lovely-professional-university-lpu-jalandhar/reviews/page-24\n",
      "https://collegedunia.com/university/25787-lovely-professional-university-lpu-jalandhar/reviews/page-25\n",
      "https://collegedunia.com/university/25787-lovely-professional-university-lpu-jalandhar/reviews/page-26\n",
      "https://collegedunia.com/university/25787-lovely-professional-university-lpu-jalandhar/reviews/page-27\n",
      "https://collegedunia.com/university/25787-lovely-professional-university-lpu-jalandhar/reviews/page-28\n",
      "https://collegedunia.com/university/25787-lovely-professional-university-lpu-jalandhar/reviews/page-29\n",
      "https://collegedunia.com/university/25787-lovely-professional-university-lpu-jalandhar/reviews/page-30\n",
      "https://collegedunia.com/university/25787-lovely-professional-university-lpu-jalandhar/reviews/page-31\n",
      "https://collegedunia.com/university/25787-lovely-professional-university-lpu-jalandhar/reviews/page-32\n",
      "https://collegedunia.com/university/25787-lovely-professional-university-lpu-jalandhar/reviews/page-33\n",
      "https://collegedunia.com/university/25787-lovely-professional-university-lpu-jalandhar/reviews/page-34\n",
      "https://collegedunia.com/university/25787-lovely-professional-university-lpu-jalandhar/reviews/page-35\n",
      "https://collegedunia.com/university/25787-lovely-professional-university-lpu-jalandhar/reviews/page-36\n",
      "https://collegedunia.com/university/25787-lovely-professional-university-lpu-jalandhar/reviews/page-37\n",
      "https://collegedunia.com/university/25787-lovely-professional-university-lpu-jalandhar/reviews/page-38\n",
      "https://collegedunia.com/university/25787-lovely-professional-university-lpu-jalandhar/reviews/page-39\n",
      "https://collegedunia.com/university/25787-lovely-professional-university-lpu-jalandhar/reviews/page-40\n",
      "https://collegedunia.com/university/25787-lovely-professional-university-lpu-jalandhar/reviews/page-41\n",
      "https://collegedunia.com/university/25787-lovely-professional-university-lpu-jalandhar/reviews/page-42\n"
     ]
    }
   ],
   "source": [
    "# Scrap data from all review pages available for college\n",
    "content = []\n",
    "while url:\n",
    "    print url\n",
    "    output = requests.get(url)\n",
    "    soup = BeautifulSoup(output.content, \"html.parser\")\n",
    "    next_pag_url = soup.find('ul', class_='pager').find('li', class_='next')\n",
    "    if next_pag_url:\n",
    "        url = next_pag_url.a['href']\n",
    "    else:\n",
    "        break\n",
    "    review_content = soup.findAll(\"div\", { \"class\" : \"content_data\" })\n",
    "    content.extend(review_content)"
   ]
  },
  {
   "cell_type": "markdown",
   "metadata": {},
   "source": [
    "### Total Positive/Negative votes for the college"
   ]
  },
  {
   "cell_type": "code",
   "execution_count": 4,
   "metadata": {},
   "outputs": [
    {
     "name": "stdout",
     "output_type": "stream",
     "text": [
      "Total Positive votes :423\n",
      "Total Negative votes :212\n"
     ]
    }
   ],
   "source": [
    "# Total likes and dislikes corresponding to each  \n",
    "total_positive = 0\n",
    "total_negative = 0\n",
    "for rc in content:\n",
    "    like = rc.find(\"a\", {\"class\" : \"liked reviews_like_button review_like\"}).span.string\n",
    "    total_positive += int(like)\n",
    "    dislike = rc.find(\"a\", {\"class\" : \"disliked reviews_like_button review_like\"}).span.string\n",
    "    total_negative += int(dislike)\n",
    "\n",
    "print \"Total Positive votes :\" + str(total_positive)\n",
    "print \"Total Negative votes :\" + str(total_negative)"
   ]
  },
  {
   "cell_type": "markdown",
   "metadata": {},
   "source": [
    "### Percentage of \"review authors\" in the following categories : “College students”, “Alumni\""
   ]
  },
  {
   "cell_type": "code",
   "execution_count": 5,
   "metadata": {},
   "outputs": [
    {
     "name": "stdout",
     "output_type": "stream",
     "text": [
      "Percentage of College students :50.0\n",
      "Percentage of Alumni :48.5365853659\n"
     ]
    }
   ],
   "source": [
    "# Calculate percentage of current students and alumni based on keywords available in the result\n",
    "college_students = 0\n",
    "alumni = 0\n",
    "total_reviews = len(content)\n",
    "unknown = 0\n",
    "for rc in content:\n",
    "    author_batch = rc.find(\"span\", {\"class\" : \"author_batch\"})\n",
    "    if author_batch:\n",
    "        author_batch = author_batch.string\n",
    "        if \"Pursued\" in author_batch :\n",
    "            college_students += 1\n",
    "        elif \"Batch\" in author_batch :\n",
    "            alumni += 1\n",
    "        else:\n",
    "            unknown += 1\n",
    "    else :\n",
    "        unknown +=1\n",
    "    \n",
    "print \"Percentage of College students :\" + str(float(college_students)/float(total_reviews)*100)\n",
    "print \"Percentage of Alumni :\" + str(float(alumni)/float(total_reviews)*100)\n",
    "    "
   ]
  },
  {
   "cell_type": "markdown",
   "metadata": {},
   "source": [
    "### Percentage of \"review authors\" who are Male/Female"
   ]
  },
  {
   "cell_type": "code",
   "execution_count": 6,
   "metadata": {},
   "outputs": [],
   "source": [
    "def get_gender(name):\n",
    "    \"\"\"\n",
    "    This function take name of person and returns gender based on api\n",
    "    https://github.com/appeler/clarifai_gender\n",
    "\n",
    "    Parameters\n",
    "    -----------\n",
    "    name : string\n",
    "        name of person\n",
    "    Returns\n",
    "    --------\n",
    "    string: gender\n",
    "    \"\"\"\n",
    "    p = 0\n",
    "    gender = \"male\"\n",
    "    for i in range(len(name.split(\" \"))):\n",
    "        gender_url = \"https://api.genderize.io/?name=\" + name.split(\" \")[i]\n",
    "        output = requests.get(gender_url).json()\n",
    "        if output.get(\"probability\", 0) > p:\n",
    "            p = output.get(\"probability\", 0)\n",
    "            gender = output['gender']\n",
    "\n",
    "    return gender"
   ]
  },
  {
   "cell_type": "code",
   "execution_count": 7,
   "metadata": {},
   "outputs": [
    {
     "name": "stdout",
     "output_type": "stream",
     "text": [
      "Percentage of Male :87.3170731707\n",
      "Percentage of female :12.6829268293\n"
     ]
    }
   ],
   "source": [
    "# We can use already available machine learning solutions to classify names based on learning from existing data of we have any\n",
    "# \n",
    "female = 0\n",
    "male = 0\n",
    "total_reviews = len(content)\n",
    "for rc in content:\n",
    "    author_name = rc.find(\"span\", {\"class\" : \"author_name\"}).string\n",
    "    gender = get_gender(author_name)\n",
    "    if gender == \"male\" :\n",
    "        male += 1\n",
    "    elif gender == \"female\" :\n",
    "        female += 1\n",
    "    else:\n",
    "        raise IOError(\"Invalid name\")\n",
    "print \"Percentage of Male :\" + str(float(male)/float(total_reviews)*100)\n",
    "print \"Percentage of female :\" + str(float(female)/float(total_reviews)*100)\n",
    "    \n"
   ]
  },
  {
   "cell_type": "markdown",
   "metadata": {},
   "source": [
    "# Entity Extraction"
   ]
  },
  {
   "cell_type": "code",
   "execution_count": 8,
   "metadata": {},
   "outputs": [],
   "source": [
    "english_stop_words =  [\"a\",\"a's\",\"able\",\"about\",\"above\",\"according\",\"accordingly\",\"across\",\"actually\",\"after\",\"afterwards\",\"again\",\"against\",\"ain't\",\"all\",\"allow\",\"allows\",\"almost\",\"alone\",\"along\",\"already\",\"also\",\"although\",\"always\",\"am\",\"among\",\"amongst\",\"an\",\"and\",\"another\",\"any\",\"anybody\",\"anyhow\",\"anyone\",\"anything\",\"anyway\",\"anyways\",\"anywhere\",\"apart\",\"appear\",\"appreciate\",\"appropriate\",\"are\",\"aren't\",\"around\",\"as\",\"aside\",\"ask\",\"asking\",\"associated\",\"at\",\"available\",\"away\",\"awfully\",\"b\",\"be\",\"became\",\"because\",\"become\",\"becomes\",\"becoming\",\"been\",\"before\",\"beforehand\",\"behind\",\"being\",\"believe\",\"below\",\"beside\",\"besides\",\"best\",\"better\",\"between\",\"beyond\",\"both\",\"brief\",\"but\",\"by\",\"c\",\"c'mon\",\"c's\",\"came\",\"can\",\"can't\",\"cannot\",\"cant\",\"cause\",\"causes\",\"certain\",\"certainly\",\"changes\",\"clearly\",\"co\",\"com\",\"come\",\"comes\",\"concerning\",\"consequently\",\"consider\",\"considering\",\"contain\",\"containing\",\"contains\",\"corresponding\",\"could\",\"couldn't\",\"course\",\"currently\",\"d\",\"definitely\",\"described\",\"despite\",\"did\",\"didn't\",\"different\",\"do\",\"does\",\"doesn't\",\"doing\",\"don't\",\"done\",\"down\",\"downwards\",\"during\",\"e\",\"each\",\"edu\",\"eg\",\"eight\",\"either\",\"else\",\"elsewhere\",\"enough\",\"entirely\",\"especially\",\"et\",\"etc\",\"even\",\"ever\",\"every\",\"everybody\",\"everyone\",\"everything\",\"everywhere\",\"ex\",\"exactly\",\"example\",\"except\",\"f\",\"far\",\"few\",\"fifth\",\"first\",\"five\",\"followed\",\"following\",\"follows\",\"for\",\"former\",\"formerly\",\"forth\",\"four\",\"from\",\"further\",\"furthermore\",\"g\",\"get\",\"gets\",\"getting\",\"given\",\"gives\",\"go\",\"goes\",\"going\",\"gone\",\"got\",\"gotten\",\"greetings\",\"h\",\"had\",\"hadn't\",\"happens\",\"hardly\",\"has\",\"hasn't\",\"have\",\"haven't\",\"having\",\"he\",\"he's\",\"hello\",\"help\",\"hence\",\"her\",\"here\",\"here's\",\"hereafter\",\"hereby\",\"herein\",\"hereupon\",\"hers\",\"herself\",\"hi\",\"him\",\"himself\",\"his\",\"hither\",\"hopefully\",\"how\",\"howbeit\",\"however\",\"i\",\"i'd\",\"i'll\",\"i'm\",\"i've\",\"ie\",\"if\",\"ignored\",\"immediate\",\"in\",\"inasmuch\",\"inc\",\"indeed\",\"indicate\",\"indicated\",\"indicates\",\"inner\",\"insofar\",\"instead\",\"into\",\"inward\",\"is\",\"isn't\",\"it\",\"it'd\",\"it'll\",\"it's\",\"its\",\"itself\",\"j\",\"just\",\"k\",\"keep\",\"keeps\",\"kept\",\"know\",\"knows\",\"known\",\"l\",\"last\",\"lately\",\"later\",\"latter\",\"latterly\",\"least\",\"less\",\"lest\",\"let\",\"let's\",\"like\",\"liked\",\"likely\",\"little\",\"look\",\"looking\",\"looks\",\"ltd\",\"m\",\"mainly\",\"many\",\"may\",\"maybe\",\"me\",\"mean\",\"meanwhile\",\"merely\",\"might\",\"more\",\"moreover\",\"most\",\"mostly\",\"much\",\"must\",\"my\",\"myself\",\"n\",\"name\",\"namely\",\"nd\",\"near\",\"nearly\",\"necessary\",\"need\",\"needs\",\"neither\",\"never\",\"nevertheless\",\"new\",\"next\",\"nine\",\"no\",\"nobody\",\"non\",\"none\",\"noone\",\"nor\",\"normally\",\"not\",\"nothing\",\"novel\",\"now\",\"nowhere\",\"o\",\"obviously\",\"of\",\"off\",\"often\",\"oh\",\"ok\",\"okay\",\"old\",\"on\",\"once\",\"one\",\"ones\",\"only\",\"onto\",\"or\",\"other\",\"others\",\"otherwise\",\"ought\",\"our\",\"ours\",\"ourselves\",\"out\",\"outside\",\"over\",\"overall\",\"own\",\"p\",\"particular\",\"particularly\",\"per\",\"perhaps\",\"placed\",\"please\",\"plus\",\"possible\",\"presumably\",\"probably\",\"provides\",\"q\",\"que\",\"quite\",\"qv\",\"r\",\"rather\",\"rd\",\"re\",\"really\",\"reasonably\",\"regarding\",\"regardless\",\"regards\",\"relatively\",\"respectively\",\"right\",\"s\",\"said\",\"same\",\"saw\",\"say\",\"saying\",\"says\",\"second\",\"secondly\",\"see\",\"seeing\",\"seem\",\"seemed\",\"seeming\",\"seems\",\"seen\",\"self\",\"selves\",\"sensible\",\"sent\",\"serious\",\"seriously\",\"seven\",\"several\",\"shall\",\"she\",\"should\",\"shouldn't\",\"since\",\"six\",\"so\",\"some\",\"somebody\",\"somehow\",\"someone\",\"something\",\"sometime\",\"sometimes\",\"somewhat\",\"somewhere\",\"soon\",\"sorry\",\"specified\",\"specify\",\"specifying\",\"still\",\"sub\",\"such\",\"sup\",\"sure\",\"t\",\"t's\",\"take\",\"taken\",\"tell\",\"tends\",\"th\",\"than\",\"thank\",\"thanks\",\"thanx\",\"that\",\"that's\",\"thats\",\"the\",\"their\",\"theirs\",\"them\",\"themselves\",\"then\",\"thence\",\"there\",\"there's\",\"thereafter\",\"thereby\",\"therefore\",\"therein\",\"theres\",\"thereupon\",\"these\",\"they\",\"they'd\",\"they'll\",\"they're\",\"they've\",\"think\",\"third\",\"this\",\"thorough\",\"thoroughly\",\"those\",\"though\",\"three\",\"through\",\"throughout\",\"thru\",\"thus\",\"to\",\"together\",\"too\",\"took\",\"toward\",\"towards\",\"tried\",\"tries\",\"truly\",\"try\",\"trying\",\"twice\",\"two\",\"u\",\"un\",\"under\",\"unfortunately\",\"unless\",\"unlikely\",\"until\",\"unto\",\"up\",\"upon\",\"us\",\"use\",\"used\",\"useful\",\"uses\",\"using\",\"usually\",\"uucp\",\"v\",\"value\",\"various\",\"very\",\"via\",\"viz\",\"vs\",\"w\",\"want\",\"wants\",\"was\",\"wasn't\",\"way\",\"we\",\"we'd\",\"we'll\",\"we're\",\"we've\",\"welcome\",\"well\",\"went\",\"were\",\"weren't\",\"what\",\"what's\",\"whatever\",\"when\",\"whence\",\"whenever\",\"where\",\"where's\",\"whereafter\",\"whereas\",\"whereby\",\"wherein\",\"whereupon\",\"wherever\",\"whether\",\"which\",\"while\",\"whither\",\"who\",\"who's\",\"whoever\",\"whole\",\"whom\",\"whose\",\"why\",\"will\",\"willing\",\"wish\",\"with\",\"within\",\"without\",\"won't\",\"wonder\",\"would\",\"would\",\"wouldn't\",\"x\",\"y\",\"yes\",\"yet\",\"you\",\"you'd\",\"you'll\",\"you're\",\"you've\",\"your\",\"yours\",\"yourself\",\"yourselves\",\"z\",\"zero\"]"
   ]
  },
  {
   "cell_type": "code",
   "execution_count": 9,
   "metadata": {},
   "outputs": [],
   "source": [
    "import re\n",
    "import string\n",
    "\n",
    "from nltk import word_tokenize, pos_tag, ne_chunk\n",
    "from nltk.stem import WordNetLemmatizer"
   ]
  },
  {
   "cell_type": "code",
   "execution_count": 10,
   "metadata": {},
   "outputs": [],
   "source": [
    "def remove_stop(text):\n",
    "    'Remove stop word'\n",
    "    return [x for x in text if x not in english_stop_words + [\"\"]]\n",
    "\n",
    "\n",
    "def clean_words(text):\n",
    "    'standardization string: Removing punctuation,all letters lower case'\n",
    "    text = text.replace(\"\\n\", \" \")\n",
    "    text = text.replace(\"\\t\", \" \")\n",
    "    text = text.replace(\"\\r\", \" \")\n",
    "    delEStr = string.punctuation + string.digits + \"–|[：+——！，。？、~@#￥%……&*（）]\"\n",
    "    table = {ord(char): None for char in delEStr}\n",
    "    text = text.translate(table)  # Remove punctuation and numbers\n",
    "    text = text.lower()\n",
    "    text = text.split(' ')\n",
    "    return text"
   ]
  },
  {
   "cell_type": "markdown",
   "metadata": {},
   "source": [
    "### Frequency of meaningful entities"
   ]
  },
  {
   "cell_type": "code",
   "execution_count": 11,
   "metadata": {},
   "outputs": [],
   "source": [
    "lemmatizer=WordNetLemmatizer()\n",
    "words_list = []\n",
    "for rc in content:\n",
    "    review = rc.find(\"div\", {\"class\" : \"review_content\"})\n",
    "#     print review\n",
    "# print review.prettify()\n",
    "    if not review.find(\"h2\"):\n",
    "        pass\n",
    "    else:\n",
    "        if not review.find(\"p\"):\n",
    "            review_string = review.h2.string\n",
    "        else :\n",
    "            b = review.p.contents\n",
    "            review_string = b[0] + review.h2.string\n",
    "#     print review_string\n",
    "    try:\n",
    "        review_string = clean_words(review_string)\n",
    "        review_string = remove_stop(review_string)\n",
    "        for word in review_string:\n",
    "            words_list.append(lemmatizer.lemmatize(word))\n",
    "    except:\n",
    "        continue\n"
   ]
  },
  {
   "cell_type": "markdown",
   "metadata": {},
   "source": [
    "**Meaningful entities**"
   ]
  },
  {
   "cell_type": "code",
   "execution_count": 12,
   "metadata": {},
   "outputs": [
    {
     "name": "stdout",
     "output_type": "stream",
     "text": [
      "Counter({u'college': 252, u'good': 191, u'university': 126, u'student': 120, u'management': 102, u'lpu': 93, u'experience': 63, u'life': 59, u'placement': 56, u'campus': 49, u'india': 46, u'bad': 41, u'study': 39, u'thing': 32, u'lovely': 31, u'time': 30, u'facility': 28, u'lot': 28, u'professional': 27, u'infrastructure': 27, u'education': 24, u'faculty': 23, u'place': 22, u'company': 21, u'class': 21, u'system': 19, u'remark': 18, u'day': 18, u'excellent': 17, u'collage': 17, u'awesome': 17, u'food': 17, u'great': 17, u'exam': 15, u'provide': 14, u'people': 14, u'learn': 14, u'complain': 14, u'part': 14, u'activity': 14, u'security': 13, u'environment': 13, u'year': 13, u'average': 13, u'package': 13, u'problem': 13, u'give': 12, u'till': 12, u'btech': 12, u'opportunity': 11, u'fee': 11, u'exposure': 11, u'enjoy': 10, u'work': 10, u'hostel': 10, u'make': 10, u'mark': 10, u'strict': 10, u'field': 10, u'hard': 10, u'admission': 10, u'private': 10, u'high': 10, u'knowledge': 10, u'lakh': 10, u'teaching': 9, u'academic': 9, u'focus': 9, u'dont': 9, u'world': 9, u'big': 9, u'structure': 9, u'job': 9, u'diversity': 9, u'north': 9, u'fun': 8, u'level': 8, u'extra': 8, u'amazing': 8, u'term': 8, u'transforming': 8, u'sport': 8, u'review': 8, u'compare': 8, u'event': 8, u'major': 8, u'relationship': 8, u'talent': 8, u'single': 8, u'skill': 8, u'library': 8, u'mess': 7, u'tech': 7, u'future': 7, u'managament': 7, u'happening': 7, u'teacher': 7, u'platform': 7, u'rms': 7, u'learning': 7, u'technology': 7, u'kind': 7, u'culture': 7, u'development': 7, u'provided': 7, u'studying': 7, u'rank': 6, u'friend': 6, u'team': 6, u'ragging': 6, u'working': 6, u'date': 6, u'course': 6, u'parent': 6, u'area': 6, u'full': 6, u'huge': 6, u'feel': 6, u'helpful': 6, u'nice': 6, u'manage': 6, u'didnt': 6, u'perfect': 6, u'quality': 6, u'largest': 6, u'join': 5, u'end': 5, u'curricular': 5, u'scenario': 5, u'happy': 5, u'offer': 5, u'global': 5, u'live': 5, u'entrance': 5, u'main': 5, u'qualified': 5, u'internet': 5, u'case': 5, u'solve': 5, u'scholarship': 5, u'log': 5, u'cooperative': 5, u'learned': 5, u'find': 5, u'complaint': 5, u'word': 5, u'process': 5, u'providing': 5, u'staff': 5, u'respect': 5, u'member': 5, u'success': 5, u'wifi': 5, u'rule': 5, u'selected': 4, u'highly': 4, u'mean': 4, u'mahindra': 4, u'listen': 4, u'depends': 4, u'suggest': 4, u'inside': 4, u'international': 4, u'institute': 4, u'suggestion': 4, u'love': 4, u'visit': 4, u'memory': 4, u'making': 4, u'girl': 4, u'increase': 4, u'care': 4, u'proud': 4, u'show': 4, u'aieee': 4, u'maintained': 4, u'aspect': 4, u'thinking': 4, u'money': 4, u'reason': 4, u'attendance': 4, u'dream': 4, u'help': 4, u'number': 4, u'conducted': 4, u'wonderful': 4, u'reply': 4, u'point': 4, u'strength': 4, u'bit': 4, u'department': 4, u'degree': 4, u'explore': 4, u'choose': 4, u'guard': 4, u'south': 4, u'handle': 4, u'state': 4, u'tight': 4, u'growth': 4, u'supportive': 4, u'freedom': 4, u'due': 4, u'hr': 4, u'worth': 3, u'disciplined': 3, u'conduct': 3, u'hospital': 3, u'lab': 3, u'side': 3, u'free': 3, u'industrial': 3, u'percentage': 3, u'diversified': 3, u'project': 3, u'matter': 3, u'personality': 3, u'stop': 3, u'amazon': 3, u'subject': 3, u'climate': 3, u'basis': 3, u'managment': 3, u'cultural': 3, u'crowd': 3, u'ums': 3, u'mba': 3, u'support': 3, u'drive': 3, u'journey': 3, u'allowed': 3, u'grow': 3, u'classroom': 3, u'organisation': 3, u'policy': 3, u'wont': 3, u'living': 3, u'coming': 3, u'online': 3, u'talented': 3, u'acre': 3, u'projector': 3, u'pay': 3, u'internship': 3, u'conducting': 3, u'stand': 3, u'cgpa': 3, u'ac': 3, u'separate': 3, u'building': 3, u'lack': 3, u'worst': 3, u'heaven': 3, u'large': 3, u'programme': 3, u'action': 3, u'family': 3, u'semester': 3, u'beautiful': 3, u'playing': 3, u'held': 3, u'paper': 3, u'found': 3, u'jee': 3, u'individual': 3, u'expensive': 3, u'ready': 3, u'task': 3, u'discipline': 3, u'back': 3, u'ur': 3, u'lpus': 3, u'diverse': 3, u'required': 3, u'recruitment': 3, u'indian': 3, u'examination': 3, u'iit': 3, u'meet': 3, u'holiday': 3, u'visited': 3, u'atmosphere': 3, u'view': 3, u'national': 3, u'computer': 3, u'youll': 3, u'taking': 3, u'waste': 3, u'chancellor': 3, u'pressure': 3, u'made': 3, u'branch': 3, u'extracurricular': 2, u'punjab': 2, u'regional': 2, u'consistent': 2, u'studio': 2, u'changed': 2, u'golden': 2, u'direclty': 2, u'total': 2, u'call': 2, u'recommend': 2, u'survive': 2, u'type': 2, u'interview': 2, u'lac': 2, u'green': 2, u'restriction': 2, u'feedback': 2, u'withing': 2, u'adobe': 2, u'top': 2, u'needed': 2, u'master': 2, u'gym': 2, u'fashion': 2, u'enjoyed': 2, u'result': 2, u'nature': 2, u'country': 2, u'con': 2, u'expected': 2, u'entered': 2, u'awsm': 2, u'im': 2, u'hand': 2, u'nit': 2, u'corporate': 2, u'left': 2, u'nonveg': 2, u'easy': 2, u'opt': 2, u'unique': 2, u'disadvantage': 2, u'transform': 2, u'way': 2, u'music': 2, u'reality': 2, u'scored': 2, u'hygienic': 2, u'zone': 2, u'technique': 2, u'division': 2, u'fullest': 2, u'cool': 2, u'collegethe': 2, u'professionalism': 2, u'patient': 2, u'managemnt': 2, u'boy': 2, u'prefer': 2, u'positive': 2, u'theoretical': 2, u'loving': 2, u'sharing': 2, u'curriculum': 2, u'hope': 2, u'winter': 2, u'man': 2, u'outlet': 2, u'approx': 2, u'cola': 2, u'domain': 2, u'directly': 2, u'engineer': 2, u'population': 2, u'take': 2, u'performance': 2, u'senior': 2, u'indiscipline': 2, u'bright': 2, u'ground': 2, u'equipped': 2, u'reputed': 2, u'affordable': 2, u'period': 2, u'capable': 2, u'developing': 2, u'coca': 2, u'pas': 2, u'develop': 2, u'totally': 2, u'costa': 2, u'touch': 2, u'speed': 2, u'improvement': 2, u'real': 2, u'early': 2, u'competition': 2, u'canteen': 2, u'capability': 2, u'hectic': 2, u'discussed': 2, u'hindi': 2, u'complete': 2, u'fill': 2, u'infact': 2, u'offered': 2, u'important': 2, u'follow': 2, u'condition': 2, u'small': 2, u'rate': 2, u'method': 2, u'amount': 2, u'minor': 2, u'glad': 2, u'hour': 2, u'mall': 2, u'cse': 2, u'upto': 2, u'adventure': 2, u'short': 2, u'fests': 2, u'travelling': 2, u'research': 2, u'issue': 2, u'put': 2, u'teach': 2, u'universitybest': 2, u'miss': 2, u'youth': 2, u'cognizant': 2, u'reach': 2, u'quota': 2, u'daylovely': 2, u'sector': 2, u'fine': 2, u'pretty': 2, u'common': 2, u'enabled': 2, u'learnt': 2, u'annual': 2, u'foreign': 2, u'costly': 2, u'higher': 2, u'assignment': 2, u'person': 2, u'organization': 2, u'alignment': 2, u'emerging': 2, u'google': 2, u'behave': 2, u'minimal': 2, u'bt': 2, u'graduation': 2, u'interacted': 2, u'properly': 2, u'line': 2, u'consist': 2, u'professor': 2, u'engineering': 2, u'land': 2, u'gr': 2, u'query': 2, u'lpulpu': 2, u'showcase': 2, u'giving': 2, u'slight': 2, u'access': 2, u'app': 2, u'upcoming': 2, u'vibe': 2, u'attend': 2, u'including': 2, u'mode': 2, u'society': 2, u'ece': 2, u'researchbased': 2, u'institution': 2, u'request': 2, u'timing': 2, u'career': 2, u'drug': 2, u'comment': 2, u'conclude': 2, u'helped': 2, u'avg': 2, u'administration': 2, u'thought': 2, u'latest': 2, u'ample': 2, u'government': 2, u'poor': 2, u'recommendation': 2, u'proper': 2, u'home': 2, u'science': 2, u'interest': 2, u'landscaping': 2, u'excitement': 2, u'book': 2, u'stay': 2, u'chance': 2, u'paperless': 1, u'stuy': 1, u'treeslpu': 1, u'nourishes': 1, u'dell': 1, u'onlingenuine': 1, u'bringing': 1, u'vast': 1, u'school': 1, u'solution': 1, u'countriesplace': 1, u'enhance': 1, u'ups': 1, u'budget': 1, u'worsea': 1, u'asia': 1, u'increasing': 1, u'told': 1, u'semesterit': 1, u'protection': 1, u'nicethe': 1, u'active': 1, u'natured': 1, u'credit': 1, u'harass': 1, u'yearthis': 1, u'military': 1, u'universityawesome': 1, u'fell': 1, u'campaign': 1, u'army': 1, u'negative': 1, u'successful': 1, u'expose': 1, u'yahoo': 1, u'aware': 1, u'phone': 1, u'striving': 1, u'intake': 1, u'pursue': 1, u'roof': 1, u'sportsgood': 1, u'collegeaverage': 1, u'organized': 1, u'unforgettable': 1, u'hot': 1, u'gaming': 1, u'peoplesmy': 1, u'childhood': 1, u'maintain': 1, u'ambulance': 1, u'untold': 1, u'satisfied': 1, u'thesis': 1, u'misconduct': 1, u'budding': 1, u'educationtransforming': 1, u'personal': 1, u'infasture': 1, u'plantation': 1, u'overcome': 1, u'goodreview': 1, u'beforemy': 1, u'combination': 1, u'safe': 1, u'collge': 1, u'indulge': 1, u'everyonebest': 1, u'manangement': 1, u'studentsstart': 1, u'knowledgegreat': 1, u'taught': 1, u'combining': 1, u'network': 1, u'medicalsportsinternetlibrary': 1, u'rb': 1, u'surprise': 1, u'resume': 1, u'revenge': 1, u'standard': 1, u'struggle': 1, u'wanted': 1, u'enormous': 1, u'therecollege': 1, u'cooperating': 1, u'lovable': 1, u'hood': 1, u'service': 1, u'studentsbestest': 1, u'defaulter': 1, u'tooo': 1, u'machinebreaking': 1, u'wasted': 1, u'distance': 1, u'verto': 1, u'tree': 1, u'infosiss': 1, u'spoiled': 1, u'onesquality': 1, u'hacking': 1, u'feeling': 1, u'mind': 1, u'manner': 1, u'increment': 1, u'seminar': 1, u'forced': 1, u'girlsjourney': 1, u'educationqualityinfrastructuregreat': 1, u'alwayschoosing': 1, u'oriented': 1, u'academia': 1, u'punish': 1, u'justgolden': 1, u'phase': 1, u'indiamy': 1, u'friendas': 1, u'flow': 1, u'spend': 1, u'activitiesabout': 1, u'dot': 1, u'random': 1, u'booksif': 1, u'crowdawesome': 1, u'explain': 1, u'rich': 1, u'do': 1, u'mixture': 1, u'studentsone': 1, u'designing': 1, u'contributes': 1, u'ipel': 1, u'architecture': 1, u'acresone': 1, u'universitylargest': 1, u'decided': 1, u'engineerawsum': 1, u'voyage': 1, u'yourselfgood': 1, u'semster': 1, u'approach': 1, u'dedication': 1, u'news': 1, u'motto': 1, u'improve': 1, u'faced': 1, u'coz': 1, u'planned': 1, u'uni': 1, u'expense': 1, u'asked': 1, u'tough': 1, u'hardworking': 1, u'height': 1, u'conduted': 1, u'initiative': 1, u'stadium': 1, u'basic': 1, u'correction': 1, u'website': 1, u'ecofriendly': 1, u'lpaa': 1, u'personally': 1, u'issuebest': 1, u'administrative': 1, u'lesser': 1, u'fallow': 1, u'cracked': 1, u'procedure': 1, u'ip': 1, u'goodbuilding': 1, u'umsuniversity': 1, u'id': 1, u'grown': 1, u'descent': 1, u'portal': 1, u'youre': 1, u'rome': 1, u'greatest': 1, u'stringent': 1, u'graded': 1, u'human': 1, u'cllege': 1, u'board': 1, u'prison': 1, u'save': 1, u'gave': 1, u'opd': 1, u'studiescampus': 1, u'night': 1, u'hung': 1, u'beneficial': 1, u'grading': 1, u'creative': 1, u'infrastructureonline': 1, u'weeksuperb': 1, u'colleg': 1, u'memorable': 1, u'chapter': 1, u'ensure': 1, u'ussome': 1, u'slightly': 1, u'studentsgreat': 1, u'eveeything': 1, u'wasting': 1, u'rulesgood': 1, u'profession': 1, u'down': 1, u'entrepreneur': 1, u'formidable': 1, u'balanced': 1, u'placementcollege': 1, u'payment': 1, u'versatality': 1, u'hindiit': 1, u'head': 1, u'form': 1, u'uncle': 1, u'satisfactorily': 1, u'bestmy': 1, u'refreshing': 1, u'slowthe': 1, u'submitting': 1, u'alwaysintain': 1, u'constructed': 1, u'papera': 1, u'locality': 1, u'lakhenjoyment': 1, u'tip': 1, u'interested': 1, u'digital': 1, u'test': 1, u'tie': 1, u'admissioni': 1, u'update': 1, u'hurt': 1, u'younger': 1, u'eventsfeel': 1, u'capgemini': 1, u'managed': 1, u'remarkable': 1, u'dance': 1, u'technoworld': 1, u'annumits': 1, u'devoted': 1, u'father': 1, u'finally': 1, u'advantage': 1, u'choice': 1, u'ma': 1, u'betterment': 1, u'impressive': 1, u'learningfun': 1, u'brother': 1, u'ites': 1, u'leave': 1, u'feeslearning': 1, u'talked': 1, u'wellqualified': 1, u'peopleget': 1, u'cleanliness': 1, u'assistance': 1, u'hdfc': 1, u'etctoo': 1, u'adda': 1, u'thingsbest': 1, u'running\\u200b': 1, u'filled': 1, u'wellnice': 1, u'supplying': 1, u'selectedlovely': 1, u'commonly': 1, u'liberage': 1, u'problematic': 1, u'facultya': 1, u'sporty': 1, u'perk': 1, u'scope': 1, u'timeone': 1, u'jobplacementperfect': 1, u'studenthostel': 1, u'effort': 1, u'behalf': 1, u'onlybest': 1, u'soul': 1, u'ull': 1, u'growing': 1, u'expanding': 1, u'there\\u2019s': 1, u'excellentthe': 1, u'listens': 1, u'examalso': 1, u'ping': 1, u'sunday': 1, u'criterion': 1, u'mat': 1, u'datz': 1, u'praiseworthy': 1, u'suck': 1, u'remember': 1, u'needy': 1, u'jail': 1, u'tall': 1, u'interesting': 1, u'happened': 1, u'infrastructurebig': 1, u'hostler': 1, u'killed': 1, u'maintaining': 1, u'accommodate': 1, u'nothinglovely': 1, u'congizant': 1, u'avoided': 1, u'space': 1, u'nominal': 1, u'hcl': 1, u'justlputransforming': 1, u'turn': 1, u'think': 1, u'organize': 1, u'benefited': 1, u'saving': 1, u'complainbest': 1, u'turnthe': 1, u'message': 1, u'open': 1, u'city': 1, u'modernise': 1, u'pmoverall': 1, u'aieeegot': 1, u'speaking': 1, u'exploring': 1, u'hub': 1, u'cope': 1, u'season': 1, u'continuous': 1, u'undoubtedly': 1, u'featuregood': 1, u'studentmore': 1, u'crowded': 1, u'recruit': 1, u'feeexcellent': 1, u'r': 1, u'managementawesome': 1, u'prospect': 1, u'overknowledge': 1, u'pro': 1, u'argument': 1, u'sap': 1, u'toootherwise': 1, u'luckafordable': 1, u'justbest': 1, u'normal': 1, u'track': 1, u'soonthe': 1, u'evcareer': 1, u'cleared': 1, u'placementspackages': 1, u'sale': 1, u'thebest': 1, u'yearlyexcellent': 1, u'shop': 1, u'rating': 1, u'ratio': 1, u'backlogged': 1, u'nutshell': 1, u'ranking': 1, u'expectation': 1, u'framing': 1, u'celebrate': 1, u'worried': 1, u'tike': 1, u'vision': 1, u'queriesreally': 1, u'concert': 1, u'heremy': 1, u'managing': 1, u'percentilei': 1, u'concentrate': 1, u'facultygood': 1, u'allround': 1, u'quiet': 1, u'called': 1, u'atsatisfactory': 1, u'inunderstanding': 1, u'allowance': 1, u'yearly': 1, u'jailif': 1, u'charismatic': 1, u'workshop': 1, u'shopping': 1, u'thousand': 1, u'blessing': 1, u'observe': 1, u'cash': 1, u'infrastructuregood': 1, u'middle': 1, u'experiance': 1, u'coke': 1, u'lite': 1, u'universitythis': 1, u'extended': 1, u'problemsamazing': 1, u'nest': 1, u'strictlyfabulous': 1, u'advertisement': 1, u'changing': 1, u'infrastructurethey': 1, u'meworld': 1, u'summer': 1, u'being': 1, u'knowledgeable': 1, u'rest': 1, u'speek': 1, u'marksthey': 1, u'weekly': 1, u'themwonderfull': 1, u'verse': 1, u'goodyou': 1, u'wihthout': 1, u'ambiencebooks': 1, u'amd': 1, u'gonna': 1, u'placegood': 1, u'mob': 1, u'nissan': 1, u'facing': 1, u't': 1, u'campusgood': 1, u'studyinglpu': 1, u'tube': 1, u'disciplinary': 1, u'exelllent': 1, u'activitycampus': 1, u'campuscumcity': 1, u'hustle': 1, u'biased': 1, u'polite': 1, u'tlpu': 1, u'roaming': 1, u'exciting': 1, u'sideapart': 1, u'industry': 1, u'practical': 1, u'courseslpu': 1, u'escalating': 1, u'infrastructurewe': 1, u'image': 1, u'lastly': 1, u'technically': 1, u'strictly': 1, u'low': 1, u'personallyit': 1, u'categoryit': 1, u'becasue': 1, u'abused': 1, u'hire': 1, u'grasp': 1, u'foodhowever': 1, u'fellow': 1, u'file': 1, u'politics': 1, u'graduate': 1, u'valid': 1, u'gaining': 1, u'included': 1, u'pool': 1, u'groom': 1, u'mass': 1, u'needful': 1, u'ptu': 1, u'chain': 1, u'tn': 1, u'program': 1, u'te': 1, u'workamazing': 1, u'appointment': 1, u'bestin': 1, u'alma': 1, u'celebrity': 1, u'joined': 1, u'sand': 1, u'favoritismgood': 1, u'indiacollege': 1, u'perspective': 1, u'structurelovely': 1, u'multinational': 1, u'transprent': 1, u'ahead': 1, u'social': 1, u'africa': 1, u'trained': 1, u'score': 1, u'charge': 1, u'collegelovely': 1, u'collegebest': 1, u'flaw': 1, u'mahindrasuperb': 1, u'indigogreat': 1, u'town': 1, u'recall': 1, u'der': 1, u'aspirant': 1, u'synchronized': 1, u'yesinteresting': 1, u'respective': 1, u'plant': 1, u'advice': 1, u'connectivity': 1, u'placeoverall': 1, u'compulsory': 1, u'adaptedif': 1, u'documentation': 1, u'tastydo': 1, u'pocool': 1, u'developed': 1, u'mission': 1, u'availablemy': 1, u'attitude': 1, u'anbest': 1, u'suffer': 1, u'scholarshiplovely': 1, u'dony': 1, u'absence': 1, u'lpuexposure': 1, u'fool': 1, u'superbi': 1, u'yr': 1, u'easily': 1, u'fully': 1, u'placment': 1, u'universiy': 1, u'heavy': 1, u'croresgood': 1, u'neededits': 1, u'scholorship': 1, u'expect': 1, u'robert': 1, u'surrounded': 1, u'offline': 1, u'confideway': 1, u'qualify': 1, u'feei': 1, u'linking': 1, u'etcin': 1, u'story': 1, u'leading': 1, u'regulation': 1, u'option': 1, u'hotel': 1, u'aspectenginear': 1, u'stall': 1, u'supposed': 1, u'appreciatedwe': 1, u'yearinnovative': 1, u'outstanding': 1, u'hangout': 1, u'infosys': 1, u'herelovely': 1, u'developmentabundance': 1, u'lie': 1, u'built': 1, u'depending': 1, u'lik': 1, u'build': 1, u'mallcanteen': 1, u'futureskills': 1, u'play': 1, u'added': 1, u'departmental': 1, u'blackboard': 1, u'hired': 1, u'experince': 1, u'plan': 1, u'ccd': 1, u'extremely': 1, u'salary': 1, u'averagers': 1, u'meawesome': 1, u'cover': 1, u'clean': 1, u'microsoft': 1, u'mannerlovable': 1, u'goodthe': 1, u'hadnt': 1, u'policiesworld': 1, u'justice': 1, u'distributed': 1, u'sciencemba': 1, u'failed': 1, u'factor': 1, u'gaint': 1, u'dependent': 1, u'lpugreat': 1, u'famous': 1, u'courage': 1, u'fastest': 1, u'pretending': 1, u'distraction': 1, u'adapts': 1, u'eyecatching': 1, u'dump': 1, u'youthvibe': 1, u'manged': 1, u'sem': 1, u'determined': 1, u'bptphysiotherapy': 1, u'deserving': 1, u'bestits': 1, u'personswill': 1, u'pepsi': 1, u'interface': 1, u'improved': 1, u'connection': 1, u'singlecampus': 1, u'alot': 1, u'upgraded': 1, u'simple': 1, u'responsibility': 1, u'damn': 1, u'nri': 1, u'counselling': 1, u'sending': 1, u'gap': 1, u'understand': 1, u'enjoymentawesomeee': 1, u'lpulovely': 1, u'handling': 1, u'enrollment': 1, u'therea': 1, u'healthy': 1, u'antiraging': 1, u'lotransforming': 1, u'behavior': 1, u'shift': 1, u'cocurricular': 1, u'guide': 1, u'lovelybest': 1, u'calender': 1, u'beautifully': 1, u'subirs': 1, u'welldesigned': 1, u'lenient': 1, u'moment': 1, u'purpose': 1, u'recent': 1, u'oncampus': 1, u'dancing': 1, u'spent': 1, u'studiesit': 1, u'politicstransforming': 1, u'badit': 1, u'studious': 1, u'solvable': 1, u'transformation': 1, u'useless': 1, u'emergency': 1, u'couple': 1, u'game': 1, u'wellequipped': 1, u'separately': 1, u'collect': 1, u'paymentthe': 1, u'skillsamazing': 1, u'sight': 1, u'viewthe': 1, u'btechbest': 1, u'gradually': 1, u'scale': 1, u'decision': 1, u'run': 1, u'remembered': 1, u'agreement': 1, u'step': 1, u'abroad': 1, u'discus': 1, u'coperative': 1, u'completing': 1, u'servicestime': 1, u'spending': 1, u'nothingamazing': 1, u'cherished': 1, u'long': 1, u'strives': 1, u'eqquiped': 1, u'junior': 1, u'harderbest': 1, u'groovy': 1, u'highlight': 1, u'defined': 1, u'heightsthe': 1, u'studycollege': 1, u'heretransforming': 1, u'lyk': 1, u'meaning': 1, u'betteras': 1, u'oracle': 1, u'joining': 1, u'partial': 1, u'enjoyable': 1, u'concerned': 1, u'send': 1, u'mannerbest': 1, u'include': 1, u'friendly': 1, u'virtuous': 1, u'examlpu': 1, u'cctv': 1, u'huddled': 1, u'arrange': 1, u'entire': 1, u'mesmerizing': 1, u'infosis': 1, u'refer': 1, u'everythings': 1, u'acadeics': 1, u'exercise': 1, u'body': 1, u'led': 1, u'monthits': 1, u'focused': 1, u'fulfill': 1, u'tuition': 1, u'professorsmy': 1, u'engage': 1, u'fastgood': 1, u'prohibitedtransforming': 1, u'resolvement': 1, u'leaving': 1, u'aspectsamazing': 1, u'opinion': 1, u'opportunitymy': 1, u'goodbest': 1, u'progammes': 1, u'remains': 1, u'camera': 1, u'fes': 1, u'timetable': 1, u'infrastructurethe': 1, u'started': 1, u'inclined': 1, u'benchmark': 1, u'campuswe': 1, u'customer': 1, u'account': 1, u'embarked': 1, u'ride': 1, u'goodmiss': 1, u'technologistbest': 1, u'native': 1, u'educational': 1, u'sit': 1, u'boxing': 1, u'struggler': 1, u'countryforeigners': 1, u'delay': 1, u'properllpu': 1, u'varies': 1, u'greatly': 1, u'profile': 1, u'opportunitieswonderful': 1, u'implementingmy': 1, u'alienation': 1, u'themmy': 1, u'mentioned': 1, u'campusbadthe': 1, u'covered': 1, u'practice': 1, u'bar': 1, u'universityit': 1, u'slide': 1, u'batch': 1, u'lpunest': 1, u'globe': 1, u'studentsgood': 1, u'related': 1, u'disciplinemechanical': 1, u'special': 1, u'tightlargest': 1, u'thingsa': 1, u'approached': 1, u'attending': 1, u'wishgud': 1, u'therenot': 1, u'retail': 1, u'timea': 1, u'finest': 1, u'systemgood': 1, u'improvementi': 1, u'moreplace': 1, u'careerthe': 1, u'itlpu': 1, u'adopted': 1, u'donts': 1, u'bosch': 1, u'academy': 1, u'approachable': 1, u'goodlovely': 1, u'elite': 1, u'societylpu': 1, u'mtech': 1, u'bea': 1, u'submitted': 1, u'academically': 1, u'apparently': 1, u'min': 1, u'matteran': 1, u'tactic': 1, u'hp': 1, u'lecturer': 1, u'amalgamated': 1, u'masti': 1, u'connected': 1, u'reduces': 1, u'walkinawesome': 1, u'face': 1, u'mechanical': 1, u'besteee': 1, u'based': 1, u'onlyreviews': 1, u'grabgolden': 1, u'improvementit': 1, u'companiesgood': 1, u'achieve': 1, u'regularly': 1, u'beat': 1, u'experiencegreat': 1, u'calling': 1, u'stuff': 1, u'lacsbest': 1, u'profesional': 1, u'requirement': 1, u'mtechelectrical': 1, u'innovator': 1, u'stats': 1, u'pattern': 1, u'wirh': 1, u'superb': 1, u'favor': 1, u'closed': 1, u'boundary': 1, u'email': 1, u'ability': 1, u'deliver': 1, u'studentopportunities': 1, u'studyi': 1, u'costbest': 1, u'storegreat': 1, u'lpuwonderful': 1, u'walk': 1, u'environmenta': 1, u'ct': 1, u'outsider': 1, u'terrificsome': 1, u'responds': 1, u'quiz': 1, u'immense': 1, u'slowly': 1, u'treat': 1, u'aieeecollege': 1, u'possiblebest': 1, u'sufficient': 1, u'awesomeawesome': 1, u'smoking': 1, u'general': 1, u'atmospheric': 1, u'unlike': 1, u'difficultcollege': 1, u'ultra': 1, u'amenity': 1, u'levelcreator': 1, u'developmentsocial': 1, u'liitle': 1, u'cross': 1, u'studentsawesome': 1, u'indiafun': 1, u'fighting': 1, u'progeessing': 1, u'resultbig': 1, u'web': 1, u'issuesa': 1, u'adorablebest': 1, u'attractive': 1, u'citizen': 1, u'nata': 1, u'burden': 1, u'immediately': 1, u'aieeei': 1, u'lpujourney': 1, u'accelerating': 1, u'soft': 1, u'accessible': 1, u'developmentperfect': 1, u'justthose': 1, u'labsonly': 1, u'enjoytamals': 1, u'roofcollege': 1, u'competitor': 1, u'lead': 1, u'delightful': 1, u'etccecofriendly': 1, u'lpusuccess': 1, u'blowing': 1, u'schedule': 1, u'worthy': 1, u'gained': 1, u'sister': 1, u'rare': 1, u'carried': 1, u'carrier': 1, u'concession': 1, u'apttitude': 1, u'educationbest': 1, u'placementlost': 1, u'doesnt': 1, u'companiesamzing': 1, u'independenthow': 1, u'biggest': 1, u'chiiled': 1, u'tgood': 1, u'function': 1, u'brand': 1, u'construction': 1, u'highest': 1, u'versatile': 1, u'count': 1, u'official': 1, u'coursesgreat': 1, u'record': 1, u'limit': 1, u'pricei': 1, u'twist': 1, u'pocketcollage': 1, u'compared': 1, u'incredible': 1, u'detail': 1, u'reckless': 1, u'cherrish': 1, u'deangood': 1, u'fest': 1, u'searched': 1, u'biotechnology': 1, u'expands': 1})\n"
     ]
    }
   ],
   "source": [
    "# count of meaningful words\n",
    "from collections import Counter\n",
    "counts = Counter(words_list)\n",
    "print counts"
   ]
  },
  {
   "cell_type": "markdown",
   "metadata": {},
   "source": [
    "### Percentage of reviews which suggest, students did not get placed"
   ]
  },
  {
   "cell_type": "code",
   "execution_count": 13,
   "metadata": {},
   "outputs": [],
   "source": [
    "def get_review_based_on_index_distance(word_1, word_2, review):\n",
    "    get_index_word_1 = review.index(word_1)\n",
    "    get_index_word_2 = review.index(word_2)\n",
    "    distance = abs(get_index_word_1 - get_index_word_2)\n",
    "    if distance < 5:\n",
    "        return 1\n",
    "    else:\n",
    "        return 0\n",
    "        "
   ]
  },
  {
   "cell_type": "code",
   "execution_count": 14,
   "metadata": {},
   "outputs": [],
   "source": [
    "lemmatizer=WordNetLemmatizer()\n",
    "good_reviews = []\n",
    "bad_reviews = []\n",
    "total_reviews = len(content)\n",
    "for rc in content:\n",
    "    review = rc.find(\"div\", {\"class\" : \"review_content\"})\n",
    "#     print review\n",
    "# print review.prettify()\n",
    "    if not review.find(\"h2\"):\n",
    "        pass\n",
    "    else:\n",
    "        if not review.find(\"p\"):\n",
    "            review_string = review.h2.string\n",
    "        else :\n",
    "            b = review.p.contents\n",
    "            review_string_input = b[0] + review.h2.string\n",
    "#     print review_string\n",
    "    try:\n",
    "        review_string = clean_words(review_string_input)\n",
    "        review_string = remove_stop(review_string)\n",
    "        word_list2 = []\n",
    "        for word in review_string:\n",
    "            word_list2.append(lemmatizer.lemmatize(word))\n",
    "        if \"placement\" in word_list2:\n",
    "            if get_review_based_on_index_distance(\"bad\", \"placement\", word_list2):\n",
    "                bad_reviews.append(review_string_input)\n",
    "            else:\n",
    "                good_reviews.append(review_string_input)\n",
    "    \n",
    "        \n",
    "    except:\n",
    "        continue\n"
   ]
  },
  {
   "cell_type": "code",
   "execution_count": 15,
   "metadata": {},
   "outputs": [
    {
     "data": {
      "text/plain": [
       "[u\"Good remarks about the faculties, they teach very well\\r\\nBad remarks is only about the placement. It's only good in computer science,MBA and hotel management fields only.Reviews about placements\",\n",
       " u'Good Thing - Teachers , Management , Extracurricular Activities , And even placements activities can be included\\r\\nBad - Ultra Tight Security and restrictions, No liberage for exams or study even if it is your serious family issues .\\r\\n\\t\\t\\t\\t\\t\\t\\tOutstanding Experience',\n",
       " u'Not many words, but the placement experience was pretty bad with college. I did get to sit in few of the interviews but could not cash in opportunity for a job. I had to struggle upon my own in the end and got my first job after 1 year gap. This is the case with most of my fellow students. Those of whom got the opportunity to get a job through campus placement are doing good in life but it would have been a good experience if the university put in more efforts for the deserving students of the college.Average experience with Lovely',\n",
       " u\"The management was very co-operating and there to fulfill the needs of the students. The only bad thing is that they have less placements for Life Sciences though there were placements for B.Tech Biotechnology, but very less for Master's degree students it is overall a good institution to go to. I would prefer LPU for graduation studies. A good place to enjoy first 3 years of college life. I enjoyed a lot during my stay at LPU. Education with Fun.\"]"
      ]
     },
     "execution_count": 15,
     "metadata": {},
     "output_type": "execute_result"
    }
   ],
   "source": [
    "bad_reviews"
   ]
  },
  {
   "cell_type": "code",
   "execution_count": 16,
   "metadata": {},
   "outputs": [
    {
     "name": "stdout",
     "output_type": "stream",
     "text": [
      "Percentage of bad reviews about placement : 0.975609756098\n"
     ]
    }
   ],
   "source": [
    "print \"Percentage of bad reviews about placement : \" + str(float(len(bad_reviews))/float(total_reviews)*100)"
   ]
  },
  {
   "cell_type": "code",
   "execution_count": null,
   "metadata": {},
   "outputs": [],
   "source": []
  }
 ],
 "metadata": {
  "celltoolbar": "Raw Cell Format",
  "kernelspec": {
   "display_name": "Python 2",
   "language": "python",
   "name": "python2"
  },
  "language_info": {
   "codemirror_mode": {
    "name": "ipython",
    "version": 2
   },
   "file_extension": ".py",
   "mimetype": "text/x-python",
   "name": "python",
   "nbconvert_exporter": "python",
   "pygments_lexer": "ipython2",
   "version": "2.7.10"
  }
 },
 "nbformat": 4,
 "nbformat_minor": 2
}
